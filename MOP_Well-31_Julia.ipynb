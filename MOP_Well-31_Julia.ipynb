{
 "cells": [
  {
   "cell_type": "code",
   "execution_count": 3,
   "metadata": {},
   "outputs": [],
   "source": [
    "# Importando las librerías\n",
    "using DataFrames\n",
    "using CSV"
   ]
  },
  {
   "cell_type": "code",
   "execution_count": 4,
   "metadata": {},
   "outputs": [],
   "source": [
    "# Leyendo los datos de entrada\n",
    "df = CSV.read(\"Datos_Aparejo_W-31.csv\", DataFrame);"
   ]
  },
  {
   "cell_type": "code",
   "execution_count": 9,
   "metadata": {},
   "outputs": [
    {
     "data": {
      "text/html": [
       "<div><div style = \"float: left;\"><span>DataFrameRow (8 columns)</span></div><div style = \"clear: both;\"></div></div><div class = \"data-frame\" style = \"overflow-x: scroll;\"><table class = \"data-frame\" style = \"margin-bottom: 6px;\"><thead><tr class = \"header\"><th class = \"rowLabel\" style = \"font-weight: bold; text-align: right;\">Row</th><th style = \"text-align: left;\">#</th><th style = \"text-align: left;\">D_Ext</th><th style = \"text-align: left;\">Dint_</th><th style = \"text-align: left;\">Long</th><th style = \"text-align: left;\">Cima</th><th style = \"text-align: left;\">Base</th><th style = \"text-align: left;\">Lib</th><th style = \"text-align: left;\">Rt</th></tr><tr class = \"subheader headerLastRow\"><th class = \"rowLabel\" style = \"font-weight: bold; text-align: right;\"></th><th title = \"Int64\" style = \"text-align: left;\">Int64</th><th title = \"Float64\" style = \"text-align: left;\">Float64</th><th title = \"String7\" style = \"text-align: left;\">String7</th><th title = \"Float64\" style = \"text-align: left;\">Float64</th><th title = \"Float64\" style = \"text-align: left;\">Float64</th><th title = \"Float64\" style = \"text-align: left;\">Float64</th><th title = \"Float64\" style = \"text-align: left;\">Float64</th><th title = \"Int64\" style = \"text-align: left;\">Int64</th></tr></thead><tbody><tr><td class = \"rowLabel\" style = \"font-weight: bold; text-align: right;\">23</td><td style = \"text-align: right;\">23</td><td style = \"text-align: right;\">4.42</td><td style = \"text-align: left;\">-</td><td style = \"text-align: right;\">2.08</td><td style = \"text-align: right;\">3715.0</td><td style = \"text-align: right;\">3717.08</td><td style = \"text-align: right;\">9.2</td><td style = \"text-align: right;\">246000</td></tr></tbody></table></div>"
      ],
      "text/latex": [
       "\\begin{tabular}{r|cccccccc}\n",
       "\t& \\# & D\\_Ext & Dint\\_ & Long & Cima & Base & Lib & Rt\\\\\n",
       "\t\\hline\n",
       "\t& Int64 & Float64 & String7 & Float64 & Float64 & Float64 & Float64 & Int64\\\\\n",
       "\t\\hline\n",
       "\t23 & 23 & 4.42 & - & 2.08 & 3715.0 & 3717.08 & 9.2 & 246000 \\\\\n",
       "\\end{tabular}\n"
      ],
      "text/plain": [
       "\u001b[1mDataFrameRow\u001b[0m\n",
       "\u001b[1m Row \u001b[0m│\u001b[1m #     \u001b[0m\u001b[1m D_Ext   \u001b[0m\u001b[1m Dint_   \u001b[0m\u001b[1m Long    \u001b[0m\u001b[1m Cima    \u001b[0m\u001b[1m Base    \u001b[0m\u001b[1m Lib     \u001b[0m\u001b[1m Rt     \u001b[0m\n",
       "     │\u001b[90m Int64 \u001b[0m\u001b[90m Float64 \u001b[0m\u001b[90m String7 \u001b[0m\u001b[90m Float64 \u001b[0m\u001b[90m Float64 \u001b[0m\u001b[90m Float64 \u001b[0m\u001b[90m Float64 \u001b[0m\u001b[90m Int64  \u001b[0m\n",
       "─────┼─────────────────────────────────────────────────────────────────────\n",
       "  23 │    23     4.42  -           2.08   3715.0  3717.08      9.2  246000"
      ]
     },
     "metadata": {},
     "output_type": "display_data"
    }
   ],
   "source": [
    "# Mostrando los primeros 5 renglones de la tabla\n",
    "last(df)"
   ]
  },
  {
   "cell_type": "code",
   "execution_count": 7,
   "metadata": {},
   "outputs": [],
   "source": [
    "# Datos\n",
    "d_fc = 0.86         # Densidad del fluido de control- diesel \n",
    "FF = 1-(d_fc/7.85)  # Factor de flotación\n",
    "FS_p = 80           # Factor de seguridad - (porcentaje)\n",
    "FS = 1/(FS_p/100);   # Factor de seguridad - adim"
   ]
  },
  {
   "cell_type": "markdown",
   "metadata": {},
   "source": [
    "$ F_{f} = 1 - \\frac{\\rho_{fc}}{7.85} $ \n",
    "\n",
    "$ R_{t80} = \\frac{R_{t}}{FS} $\n",
    "\n",
    "$ W_{aire} = \\frac{Long \\cdot Lib}{0.3048} $\n",
    "\n",
    "$ W_{flot} = W_{aire} \\cdot FF $\n",
    "\n",
    "$ MOP_{aire} = R_{t80} - W_{aire\\_acum} $\n",
    "\n",
    "$ MOP_{flot} = R_{t80} - W_{flot\\_acum} $\n",
    "\n",
    "$ MOP_{aire\\_ton} = \\frac {0.4536 \\cdot MOP_{aire}}{1000} $\n",
    "\n",
    "$ MOP_{flot\\_ton} = \\frac {0.4536 \\cdot MOP_{flot}}{1000} $"
   ]
  },
  {
   "cell_type": "code",
   "execution_count": 19,
   "metadata": {},
   "outputs": [
    {
     "name": "stdout",
     "output_type": "stream",
     "text": [
      "El margen de jalón en el aire al 80% es: 89.24000201574803 ton\n",
      "El margen de jalón flotado al 80% es: 89.24312189682533 ton\n"
     ]
    }
   ],
   "source": [
    "# Datos de entrada\n",
    "Rt = 246_000      # (lbs)\n",
    "long = 2.08       # (m)\n",
    "Lib = 9.2         # (lb/pie)\n",
    "W_ant_aire = 0    # (lbs)\n",
    "W_ant_flot = 0    # (lbs)\n",
    "\n",
    "# Resistencia a la tensión al 80% (lbs)\n",
    "Rt_80 = 0.8*Rt\n",
    "\n",
    "# Pesos en el aire y flotado (lbs)\n",
    "W_aire = long*Lib/0.3048\n",
    "W_flot = W_aire*FF\n",
    "\n",
    "# Pesos acumulados en el aire y flotado (lbs)\n",
    "W_aire_acum = W_ant_aire + W_aire\n",
    "W_flot_acum = W_ant_flot + W_flot\n",
    "\n",
    "# Margen de jalón (ton)\n",
    "MOP_aire = (Rt_80 - W_aire_acum)*0.4536*1e-3\n",
    "MOP_flot = (Rt_80 - W_flot_acum)*0.4536*1e-3\n",
    "\n",
    "println(\"El margen de jalón en el aire al 80% es: $MOP_aire ton\")\n",
    "println(\"El margen de jalón flotado al 80% es: $MOP_flot ton\")"
   ]
  },
  {
   "cell_type": "code",
   "execution_count": 21,
   "metadata": {},
   "outputs": [
    {
     "data": {
      "text/html": [
       "<div><div style = \"float: left;\"><span>1×17 DataFrame</span></div><div style = \"clear: both;\"></div></div><div class = \"data-frame\" style = \"overflow-x: scroll;\"><table class = \"data-frame\" style = \"margin-bottom: 6px;\"><thead><tr class = \"header\"><th class = \"rowNumber\" style = \"font-weight: bold; text-align: right;\">Row</th><th style = \"text-align: left;\">#</th><th style = \"text-align: left;\">D_Ext</th><th style = \"text-align: left;\">Dint_</th><th style = \"text-align: left;\">Long</th><th style = \"text-align: left;\">Cima</th><th style = \"text-align: left;\">Base</th><th style = \"text-align: left;\">Lib</th><th style = \"text-align: left;\">Rt</th><th style = \"text-align: left;\">Rt_80</th><th style = \"text-align: left;\">W_aire</th><th style = \"text-align: left;\">W_flot</th><th style = \"text-align: left;\">W_aire_acum</th><th style = \"text-align: left;\">W_flot_acum</th><th style = \"text-align: left;\">MOP_aire</th><th style = \"text-align: left;\">MOP_flot</th><th style = \"text-align: left;\">MOP_aire_ton</th><th style = \"text-align: left;\">MOP_flot_ton</th></tr><tr class = \"subheader headerLastRow\"><th class = \"rowNumber\" style = \"font-weight: bold; text-align: right;\"></th><th title = \"Int64\" style = \"text-align: left;\">Int64</th><th title = \"Float64\" style = \"text-align: left;\">Float64</th><th title = \"String7\" style = \"text-align: left;\">String7</th><th title = \"Float64\" style = \"text-align: left;\">Float64</th><th title = \"Float64\" style = \"text-align: left;\">Float64</th><th title = \"Float64\" style = \"text-align: left;\">Float64</th><th title = \"Float64\" style = \"text-align: left;\">Float64</th><th title = \"Int64\" style = \"text-align: left;\">Int64</th><th title = \"Float64\" style = \"text-align: left;\">Float64</th><th title = \"Float64\" style = \"text-align: left;\">Float64</th><th title = \"Float64\" style = \"text-align: left;\">Float64</th><th title = \"Float64\" style = \"text-align: left;\">Float64</th><th title = \"Float64\" style = \"text-align: left;\">Float64</th><th title = \"Float64\" style = \"text-align: left;\">Float64</th><th title = \"Float64\" style = \"text-align: left;\">Float64</th><th title = \"Float64\" style = \"text-align: left;\">Float64</th><th title = \"Float64\" style = \"text-align: left;\">Float64</th></tr></thead><tbody><tr><td class = \"rowNumber\" style = \"font-weight: bold; text-align: right;\">1</td><td style = \"text-align: right;\">23</td><td style = \"text-align: right;\">4.42</td><td style = \"text-align: left;\">-</td><td style = \"text-align: right;\">2.08</td><td style = \"text-align: right;\">3715.0</td><td style = \"text-align: right;\">3717.08</td><td style = \"text-align: right;\">9.2</td><td style = \"text-align: right;\">246000</td><td style = \"text-align: right;\">196800.0</td><td style = \"text-align: right;\">62.7822</td><td style = \"text-align: right;\">55.9041</td><td style = \"text-align: right;\">62.7822</td><td style = \"text-align: right;\">55.9041</td><td style = \"text-align: right;\">1.96737e5</td><td style = \"text-align: right;\">1.96744e5</td><td style = \"text-align: right;\">89.24</td><td style = \"text-align: right;\">89.2431</td></tr></tbody></table></div>"
      ],
      "text/latex": [
       "\\begin{tabular}{r|ccccccccccc}\n",
       "\t& \\# & D\\_Ext & Dint\\_ & Long & Cima & Base & Lib & Rt & Rt\\_80 & W\\_aire & \\\\\n",
       "\t\\hline\n",
       "\t& Int64 & Float64 & String7 & Float64 & Float64 & Float64 & Float64 & Int64 & Float64 & Float64 & \\\\\n",
       "\t\\hline\n",
       "\t1 & 23 & 4.42 & - & 2.08 & 3715.0 & 3717.08 & 9.2 & 246000 & 196800.0 & 62.7822 & $\\dots$ \\\\\n",
       "\\end{tabular}\n"
      ],
      "text/plain": [
       "\u001b[1m1×17 DataFrame\u001b[0m\n",
       "\u001b[1m Row \u001b[0m│\u001b[1m #     \u001b[0m\u001b[1m D_Ext   \u001b[0m\u001b[1m Dint_   \u001b[0m\u001b[1m Long    \u001b[0m\u001b[1m Cima    \u001b[0m\u001b[1m Base    \u001b[0m\u001b[1m Lib     \u001b[0m\u001b[1m Rt     \u001b[0m\u001b[1m Rt\u001b[0m ⋯\n",
       "     │\u001b[90m Int64 \u001b[0m\u001b[90m Float64 \u001b[0m\u001b[90m String7 \u001b[0m\u001b[90m Float64 \u001b[0m\u001b[90m Float64 \u001b[0m\u001b[90m Float64 \u001b[0m\u001b[90m Float64 \u001b[0m\u001b[90m Int64  \u001b[0m\u001b[90m Fl\u001b[0m ⋯\n",
       "─────┼──────────────────────────────────────────────────────────────────────────\n",
       "   1 │    23     4.42  -           2.08   3715.0  3717.08      9.2  246000  19 ⋯\n",
       "\u001b[36m                                                               9 columns omitted\u001b[0m"
      ]
     },
     "metadata": {},
     "output_type": "display_data"
    }
   ],
   "source": [
    "# Realizando los cálculos:\n",
    "# Resistencia a la tensión con Factor de Seguridad - lbs\n",
    "df[!, :Rt_80] = df.Rt/FS\n",
    "\n",
    "# Pesos en el aire y flotado - lbs\n",
    "df[!, :W_aire] = (df.Long) .* (df.Lib)/0.3048\n",
    "df[!, :W_flot] = df.W_aire*FF\n",
    "\n",
    "# Pesos acumulados - lbs\n",
    "W_aire_acum, W_flot_acum = Any[], Any[]\n",
    "\n",
    "for fila in 1:23\n",
    "    push!(W_aire_acum, sum(df.W_aire[fila:end]))\n",
    "    push!(W_flot_acum, sum(df.W_flot[fila:end]))\n",
    "end\n",
    "\n",
    "df[!, :W_aire_acum] = Float64.(W_aire_acum)\n",
    "df[!, :W_flot_acum] = Float64.(W_flot_acum)\n",
    "\n",
    "# Margen de Jalón - lbs\n",
    "df[!, :MOP_aire] = df.Rt_80 - df.W_aire_acum\n",
    "df[!, :MOP_flot] = df.Rt_80 - df.W_flot_acum\n",
    "\n",
    "# Margen de Jalón - ton\n",
    "df[!, :MOP_aire_ton] = df.MOP_aire*0.4536*1e-3\n",
    "df[!, :MOP_flot_ton] = df.MOP_flot*0.4536*1e-3\n",
    "\n",
    "last(df, 1)"
   ]
  },
  {
   "cell_type": "code",
   "execution_count": 22,
   "metadata": {},
   "outputs": [
    {
     "data": {
      "text/html": [
       "<div><div style = \"float: left;\"><span>1×17 DataFrame</span></div><div style = \"clear: both;\"></div></div><div class = \"data-frame\" style = \"overflow-x: scroll;\"><table class = \"data-frame\" style = \"margin-bottom: 6px;\"><thead><tr class = \"header\"><th class = \"rowNumber\" style = \"font-weight: bold; text-align: right;\">Row</th><th style = \"text-align: left;\">#</th><th style = \"text-align: left;\">D_Ext</th><th style = \"text-align: left;\">Dint_</th><th style = \"text-align: left;\">Long</th><th style = \"text-align: left;\">Cima</th><th style = \"text-align: left;\">Base</th><th style = \"text-align: left;\">Lib</th><th style = \"text-align: left;\">Rt</th><th style = \"text-align: left;\">Rt_80</th><th style = \"text-align: left;\">W_aire</th><th style = \"text-align: left;\">W_flot</th><th style = \"text-align: left;\">W_aire_acum</th><th style = \"text-align: left;\">W_flot_acum</th><th style = \"text-align: left;\">MOP_aire</th><th style = \"text-align: left;\">MOP_flot</th><th style = \"text-align: left;\">MOP_aire_ton</th><th style = \"text-align: left;\">MOP_flot_ton</th></tr><tr class = \"subheader headerLastRow\"><th class = \"rowNumber\" style = \"font-weight: bold; text-align: right;\"></th><th title = \"Int64\" style = \"text-align: left;\">Int64</th><th title = \"Float64\" style = \"text-align: left;\">Float64</th><th title = \"String7\" style = \"text-align: left;\">String7</th><th title = \"Float64\" style = \"text-align: left;\">Float64</th><th title = \"Float64\" style = \"text-align: left;\">Float64</th><th title = \"Float64\" style = \"text-align: left;\">Float64</th><th title = \"Float64\" style = \"text-align: left;\">Float64</th><th title = \"Int64\" style = \"text-align: left;\">Int64</th><th title = \"Float64\" style = \"text-align: left;\">Float64</th><th title = \"Float64\" style = \"text-align: left;\">Float64</th><th title = \"Float64\" style = \"text-align: left;\">Float64</th><th title = \"Float64\" style = \"text-align: left;\">Float64</th><th title = \"Float64\" style = \"text-align: left;\">Float64</th><th title = \"Float64\" style = \"text-align: left;\">Float64</th><th title = \"Float64\" style = \"text-align: left;\">Float64</th><th title = \"Float64\" style = \"text-align: left;\">Float64</th><th title = \"Float64\" style = \"text-align: left;\">Float64</th></tr></thead><tbody><tr><td class = \"rowNumber\" style = \"font-weight: bold; text-align: right;\">1</td><td style = \"text-align: right;\">7</td><td style = \"text-align: right;\">4.5</td><td style = \"text-align: left;\">2.992</td><td style = \"text-align: right;\">0.39</td><td style = \"text-align: right;\">225.53</td><td style = \"text-align: right;\">225.92</td><td style = \"text-align: right;\">9.2</td><td style = \"text-align: right;\">246000</td><td style = \"text-align: right;\">196800.0</td><td style = \"text-align: right;\">11.7717</td><td style = \"text-align: right;\">10.482</td><td style = \"text-align: right;\">1.1041e5</td><td style = \"text-align: right;\">98314.1</td><td style = \"text-align: right;\">86390.1</td><td style = \"text-align: right;\">98485.9</td><td style = \"text-align: right;\">39.1865</td><td style = \"text-align: right;\">44.6732</td></tr></tbody></table></div>"
      ],
      "text/latex": [
       "\\begin{tabular}{r|ccccccccccc}\n",
       "\t& \\# & D\\_Ext & Dint\\_ & Long & Cima & Base & Lib & Rt & Rt\\_80 & W\\_aire & \\\\\n",
       "\t\\hline\n",
       "\t& Int64 & Float64 & String7 & Float64 & Float64 & Float64 & Float64 & Int64 & Float64 & Float64 & \\\\\n",
       "\t\\hline\n",
       "\t1 & 7 & 4.5 & 2.992 & 0.39 & 225.53 & 225.92 & 9.2 & 246000 & 196800.0 & 11.7717 & $\\dots$ \\\\\n",
       "\\end{tabular}\n"
      ],
      "text/plain": [
       "\u001b[1m1×17 DataFrame\u001b[0m\n",
       "\u001b[1m Row \u001b[0m│\u001b[1m #     \u001b[0m\u001b[1m D_Ext   \u001b[0m\u001b[1m Dint_   \u001b[0m\u001b[1m Long    \u001b[0m\u001b[1m Cima    \u001b[0m\u001b[1m Base    \u001b[0m\u001b[1m Lib     \u001b[0m\u001b[1m Rt     \u001b[0m\u001b[1m Rt\u001b[0m ⋯\n",
       "     │\u001b[90m Int64 \u001b[0m\u001b[90m Float64 \u001b[0m\u001b[90m String7 \u001b[0m\u001b[90m Float64 \u001b[0m\u001b[90m Float64 \u001b[0m\u001b[90m Float64 \u001b[0m\u001b[90m Float64 \u001b[0m\u001b[90m Int64  \u001b[0m\u001b[90m Fl\u001b[0m ⋯\n",
       "─────┼──────────────────────────────────────────────────────────────────────────\n",
       "   1 │     7      4.5  2.992       0.39   225.53   225.92      9.2  246000  19 ⋯\n",
       "\u001b[36m                                                               9 columns omitted\u001b[0m"
      ]
     },
     "metadata": {},
     "output_type": "display_data"
    }
   ],
   "source": [
    "first(sort(df, [:MOP_flot_ton]), 1)"
   ]
  }
 ],
 "metadata": {
  "kernelspec": {
   "display_name": "Julia 1.9.4",
   "language": "julia",
   "name": "julia-1.9"
  },
  "language_info": {
   "file_extension": ".jl",
   "mimetype": "application/julia",
   "name": "julia",
   "version": "1.9.4"
  }
 },
 "nbformat": 4,
 "nbformat_minor": 2
}
