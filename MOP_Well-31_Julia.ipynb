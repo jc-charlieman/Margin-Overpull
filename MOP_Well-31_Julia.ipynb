{
 "cells": [
  {
   "cell_type": "code",
   "execution_count": 5,
   "metadata": {},
   "outputs": [],
   "source": [
    "# Importando las librerías\n",
    "using DataFrames\n",
    "using CSV"
   ]
  },
  {
   "cell_type": "code",
   "execution_count": 6,
   "metadata": {},
   "outputs": [],
   "source": [
    "# Leyendo los datos de entrada\n",
    "df = CSV.read(\"Datos_Aparejo_W-31.csv\", DataFrame);"
   ]
  },
  {
   "cell_type": "code",
   "execution_count": 7,
   "metadata": {},
   "outputs": [
    {
     "data": {
      "text/html": [
       "<div><div style = \"float: left;\"><span>23×8 DataFrame</span></div><div style = \"clear: both;\"></div></div><div class = \"data-frame\" style = \"overflow-x: scroll;\"><table class = \"data-frame\" style = \"margin-bottom: 6px;\"><thead><tr class = \"header\"><th class = \"rowNumber\" style = \"font-weight: bold; text-align: right;\">Row</th><th style = \"text-align: left;\">#</th><th style = \"text-align: left;\">D_Ext</th><th style = \"text-align: left;\">Dint_</th><th style = \"text-align: left;\">Long</th><th style = \"text-align: left;\">Cima</th><th style = \"text-align: left;\">Base</th><th style = \"text-align: left;\">Lib</th><th style = \"text-align: left;\">Rt</th></tr><tr class = \"subheader headerLastRow\"><th class = \"rowNumber\" style = \"font-weight: bold; text-align: right;\"></th><th title = \"Int64\" style = \"text-align: left;\">Int64</th><th title = \"Float64\" style = \"text-align: left;\">Float64</th><th title = \"String7\" style = \"text-align: left;\">String7</th><th title = \"Float64\" style = \"text-align: left;\">Float64</th><th title = \"Float64\" style = \"text-align: left;\">Float64</th><th title = \"Float64\" style = \"text-align: left;\">Float64</th><th title = \"Float64\" style = \"text-align: left;\">Float64</th><th title = \"Int64\" style = \"text-align: left;\">Int64</th></tr></thead><tbody><tr><td class = \"rowNumber\" style = \"font-weight: bold; text-align: right;\">1</td><td style = \"text-align: right;\">1</td><td style = \"text-align: right;\">11.0</td><td style = \"text-align: left;\">3.9</td><td style = \"text-align: right;\">0.2</td><td style = \"text-align: right;\">0.0</td><td style = \"text-align: right;\">0.2</td><td style = \"text-align: right;\">15.1</td><td style = \"text-align: right;\">342000</td></tr><tr><td class = \"rowNumber\" style = \"font-weight: bold; text-align: right;\">2</td><td style = \"text-align: right;\">2</td><td style = \"text-align: right;\">4.5</td><td style = \"text-align: left;\">3.958</td><td style = \"text-align: right;\">1.8</td><td style = \"text-align: right;\">0.2</td><td style = \"text-align: right;\">2.0</td><td style = \"text-align: right;\">12.6</td><td style = \"text-align: right;\">342000</td></tr><tr><td class = \"rowNumber\" style = \"font-weight: bold; text-align: right;\">3</td><td style = \"text-align: right;\">3</td><td style = \"text-align: right;\">4.5</td><td style = \"text-align: left;\">3.958</td><td style = \"text-align: right;\">133.45</td><td style = \"text-align: right;\">2.0</td><td style = \"text-align: right;\">135.45</td><td style = \"text-align: right;\">12.6</td><td style = \"text-align: right;\">342000</td></tr><tr><td class = \"rowNumber\" style = \"font-weight: bold; text-align: right;\">4</td><td style = \"text-align: right;\">4</td><td style = \"text-align: right;\">4.5</td><td style = \"text-align: left;\">3.958</td><td style = \"text-align: right;\">2.19</td><td style = \"text-align: right;\">135.45</td><td style = \"text-align: right;\">137.64</td><td style = \"text-align: right;\">12.6</td><td style = \"text-align: right;\">342000</td></tr><tr><td class = \"rowNumber\" style = \"font-weight: bold; text-align: right;\">5</td><td style = \"text-align: right;\">5</td><td style = \"text-align: right;\">4.5</td><td style = \"text-align: left;\">3.812</td><td style = \"text-align: right;\">1.39</td><td style = \"text-align: right;\">137.64</td><td style = \"text-align: right;\">139.03</td><td style = \"text-align: right;\">12.6</td><td style = \"text-align: right;\">342000</td></tr><tr><td class = \"rowNumber\" style = \"font-weight: bold; text-align: right;\">6</td><td style = \"text-align: right;\">6</td><td style = \"text-align: right;\">4.5</td><td style = \"text-align: left;\">3.958</td><td style = \"text-align: right;\">86.5</td><td style = \"text-align: right;\">139.03</td><td style = \"text-align: right;\">225.53</td><td style = \"text-align: right;\">12.6</td><td style = \"text-align: right;\">342000</td></tr><tr><td class = \"rowNumber\" style = \"font-weight: bold; text-align: right;\">7</td><td style = \"text-align: right;\">7</td><td style = \"text-align: right;\">4.5</td><td style = \"text-align: left;\">2.992</td><td style = \"text-align: right;\">0.39</td><td style = \"text-align: right;\">225.53</td><td style = \"text-align: right;\">225.92</td><td style = \"text-align: right;\">9.2</td><td style = \"text-align: right;\">246000</td></tr><tr><td class = \"rowNumber\" style = \"font-weight: bold; text-align: right;\">8</td><td style = \"text-align: right;\">8</td><td style = \"text-align: right;\">3.5</td><td style = \"text-align: left;\">2.992</td><td style = \"text-align: right;\">3340.33</td><td style = \"text-align: right;\">225.92</td><td style = \"text-align: right;\">3566.25</td><td style = \"text-align: right;\">9.2</td><td style = \"text-align: right;\">246000</td></tr><tr><td class = \"rowNumber\" style = \"font-weight: bold; text-align: right;\">9</td><td style = \"text-align: right;\">9</td><td style = \"text-align: right;\">3.5</td><td style = \"text-align: left;\">2.992</td><td style = \"text-align: right;\">9.4</td><td style = \"text-align: right;\">3566.25</td><td style = \"text-align: right;\">3575.65</td><td style = \"text-align: right;\">9.2</td><td style = \"text-align: right;\">246000</td></tr><tr><td class = \"rowNumber\" style = \"font-weight: bold; text-align: right;\">10</td><td style = \"text-align: right;\">10</td><td style = \"text-align: right;\">5.25</td><td style = \"text-align: left;\">-</td><td style = \"text-align: right;\">0.42</td><td style = \"text-align: right;\">3575.65</td><td style = \"text-align: right;\">3576.07</td><td style = \"text-align: right;\">73.54</td><td style = \"text-align: right;\">246000</td></tr><tr><td class = \"rowNumber\" style = \"font-weight: bold; text-align: right;\">11</td><td style = \"text-align: right;\">11</td><td style = \"text-align: right;\">5.38</td><td style = \"text-align: left;\">-</td><td style = \"text-align: right;\">0.19</td><td style = \"text-align: right;\">3576.07</td><td style = \"text-align: right;\">3576.26</td><td style = \"text-align: right;\">73.54</td><td style = \"text-align: right;\">246000</td></tr><tr><td class = \"rowNumber\" style = \"font-weight: bold; text-align: right;\">12</td><td style = \"text-align: right;\">12</td><td style = \"text-align: right;\">5.38</td><td style = \"text-align: left;\">-</td><td style = \"text-align: right;\">5.77</td><td style = \"text-align: right;\">3576.26</td><td style = \"text-align: right;\">3582.03</td><td style = \"text-align: right;\">73.54</td><td style = \"text-align: right;\">246000</td></tr><tr><td class = \"rowNumber\" style = \"font-weight: bold; text-align: right;\">13</td><td style = \"text-align: right;\">13</td><td style = \"text-align: right;\">5.38</td><td style = \"text-align: left;\">-</td><td style = \"text-align: right;\">5.77</td><td style = \"text-align: right;\">3582.03</td><td style = \"text-align: right;\">3587.8</td><td style = \"text-align: right;\">73.54</td><td style = \"text-align: right;\">246000</td></tr><tr><td class = \"rowNumber\" style = \"font-weight: bold; text-align: right;\">14</td><td style = \"text-align: right;\">14</td><td style = \"text-align: right;\">5.38</td><td style = \"text-align: left;\">-</td><td style = \"text-align: right;\">5.77</td><td style = \"text-align: right;\">3587.8</td><td style = \"text-align: right;\">3593.57</td><td style = \"text-align: right;\">73.54</td><td style = \"text-align: right;\">246000</td></tr><tr><td class = \"rowNumber\" style = \"font-weight: bold; text-align: right;\">15</td><td style = \"text-align: right;\">15</td><td style = \"text-align: right;\">5.38</td><td style = \"text-align: left;\">-</td><td style = \"text-align: right;\">1.67</td><td style = \"text-align: right;\">3593.57</td><td style = \"text-align: right;\">3595.24</td><td style = \"text-align: right;\">73.54</td><td style = \"text-align: right;\">246000</td></tr><tr><td class = \"rowNumber\" style = \"font-weight: bold; text-align: right;\">16</td><td style = \"text-align: right;\">16</td><td style = \"text-align: right;\">5.13</td><td style = \"text-align: left;\">-</td><td style = \"text-align: right;\">2.1</td><td style = \"text-align: right;\">3595.24</td><td style = \"text-align: right;\">3597.34</td><td style = \"text-align: right;\">73.54</td><td style = \"text-align: right;\">246000</td></tr><tr><td class = \"rowNumber\" style = \"font-weight: bold; text-align: right;\">17</td><td style = \"text-align: right;\">17</td><td style = \"text-align: right;\">5.13</td><td style = \"text-align: left;\">-</td><td style = \"text-align: right;\">2.1</td><td style = \"text-align: right;\">3597.34</td><td style = \"text-align: right;\">3599.44</td><td style = \"text-align: right;\">73.54</td><td style = \"text-align: right;\">246000</td></tr><tr><td class = \"rowNumber\" style = \"font-weight: bold; text-align: right;\">18</td><td style = \"text-align: right;\">18</td><td style = \"text-align: right;\">5.62</td><td style = \"text-align: left;\">-</td><td style = \"text-align: right;\">10.32</td><td style = \"text-align: right;\">3599.44</td><td style = \"text-align: right;\">3609.76</td><td style = \"text-align: right;\">9.2</td><td style = \"text-align: right;\">246000</td></tr><tr><td class = \"rowNumber\" style = \"font-weight: bold; text-align: right;\">19</td><td style = \"text-align: right;\">19</td><td style = \"text-align: right;\">4.5</td><td style = \"text-align: left;\">-</td><td style = \"text-align: right;\">1.25</td><td style = \"text-align: right;\">3609.76</td><td style = \"text-align: right;\">3611.01</td><td style = \"text-align: right;\">9.2</td><td style = \"text-align: right;\">246000</td></tr><tr><td class = \"rowNumber\" style = \"font-weight: bold; text-align: right;\">20</td><td style = \"text-align: right;\">20</td><td style = \"text-align: right;\">6.5</td><td style = \"text-align: left;\">-</td><td style = \"text-align: right;\">2.05</td><td style = \"text-align: right;\">3611.01</td><td style = \"text-align: right;\">3613.06</td><td style = \"text-align: right;\">9.2</td><td style = \"text-align: right;\">246000</td></tr><tr><td class = \"rowNumber\" style = \"font-weight: bold; text-align: right;\">21</td><td style = \"text-align: right;\">21</td><td style = \"text-align: right;\">3.5</td><td style = \"text-align: left;\">2.992</td><td style = \"text-align: right;\">0.38</td><td style = \"text-align: right;\">3613.06</td><td style = \"text-align: right;\">3613.44</td><td style = \"text-align: right;\">9.3</td><td style = \"text-align: right;\">246000</td></tr><tr><td class = \"rowNumber\" style = \"font-weight: bold; text-align: right;\">22</td><td style = \"text-align: right;\">22</td><td style = \"text-align: right;\">3.5</td><td style = \"text-align: left;\">2.992</td><td style = \"text-align: right;\">101.56</td><td style = \"text-align: right;\">3613.44</td><td style = \"text-align: right;\">3715.0</td><td style = \"text-align: right;\">9.2</td><td style = \"text-align: right;\">246000</td></tr><tr><td class = \"rowNumber\" style = \"font-weight: bold; text-align: right;\">23</td><td style = \"text-align: right;\">23</td><td style = \"text-align: right;\">4.42</td><td style = \"text-align: left;\">-</td><td style = \"text-align: right;\">2.08</td><td style = \"text-align: right;\">3715.0</td><td style = \"text-align: right;\">3717.08</td><td style = \"text-align: right;\">9.2</td><td style = \"text-align: right;\">246000</td></tr></tbody></table></div>"
      ],
      "text/latex": [
       "\\begin{tabular}{r|cccccccc}\n",
       "\t& \\# & D\\_Ext & Dint\\_ & Long & Cima & Base & Lib & Rt\\\\\n",
       "\t\\hline\n",
       "\t& Int64 & Float64 & String7 & Float64 & Float64 & Float64 & Float64 & Int64\\\\\n",
       "\t\\hline\n",
       "\t1 & 1 & 11.0 & 3.9 & 0.2 & 0.0 & 0.2 & 15.1 & 342000 \\\\\n",
       "\t2 & 2 & 4.5 & 3.958 & 1.8 & 0.2 & 2.0 & 12.6 & 342000 \\\\\n",
       "\t3 & 3 & 4.5 & 3.958 & 133.45 & 2.0 & 135.45 & 12.6 & 342000 \\\\\n",
       "\t4 & 4 & 4.5 & 3.958 & 2.19 & 135.45 & 137.64 & 12.6 & 342000 \\\\\n",
       "\t5 & 5 & 4.5 & 3.812 & 1.39 & 137.64 & 139.03 & 12.6 & 342000 \\\\\n",
       "\t6 & 6 & 4.5 & 3.958 & 86.5 & 139.03 & 225.53 & 12.6 & 342000 \\\\\n",
       "\t7 & 7 & 4.5 & 2.992 & 0.39 & 225.53 & 225.92 & 9.2 & 246000 \\\\\n",
       "\t8 & 8 & 3.5 & 2.992 & 3340.33 & 225.92 & 3566.25 & 9.2 & 246000 \\\\\n",
       "\t9 & 9 & 3.5 & 2.992 & 9.4 & 3566.25 & 3575.65 & 9.2 & 246000 \\\\\n",
       "\t10 & 10 & 5.25 & - & 0.42 & 3575.65 & 3576.07 & 73.54 & 246000 \\\\\n",
       "\t11 & 11 & 5.38 & - & 0.19 & 3576.07 & 3576.26 & 73.54 & 246000 \\\\\n",
       "\t12 & 12 & 5.38 & - & 5.77 & 3576.26 & 3582.03 & 73.54 & 246000 \\\\\n",
       "\t13 & 13 & 5.38 & - & 5.77 & 3582.03 & 3587.8 & 73.54 & 246000 \\\\\n",
       "\t14 & 14 & 5.38 & - & 5.77 & 3587.8 & 3593.57 & 73.54 & 246000 \\\\\n",
       "\t15 & 15 & 5.38 & - & 1.67 & 3593.57 & 3595.24 & 73.54 & 246000 \\\\\n",
       "\t16 & 16 & 5.13 & - & 2.1 & 3595.24 & 3597.34 & 73.54 & 246000 \\\\\n",
       "\t17 & 17 & 5.13 & - & 2.1 & 3597.34 & 3599.44 & 73.54 & 246000 \\\\\n",
       "\t18 & 18 & 5.62 & - & 10.32 & 3599.44 & 3609.76 & 9.2 & 246000 \\\\\n",
       "\t19 & 19 & 4.5 & - & 1.25 & 3609.76 & 3611.01 & 9.2 & 246000 \\\\\n",
       "\t20 & 20 & 6.5 & - & 2.05 & 3611.01 & 3613.06 & 9.2 & 246000 \\\\\n",
       "\t21 & 21 & 3.5 & 2.992 & 0.38 & 3613.06 & 3613.44 & 9.3 & 246000 \\\\\n",
       "\t22 & 22 & 3.5 & 2.992 & 101.56 & 3613.44 & 3715.0 & 9.2 & 246000 \\\\\n",
       "\t23 & 23 & 4.42 & - & 2.08 & 3715.0 & 3717.08 & 9.2 & 246000 \\\\\n",
       "\\end{tabular}\n"
      ],
      "text/plain": [
       "\u001b[1m23×8 DataFrame\u001b[0m\n",
       "\u001b[1m Row \u001b[0m│\u001b[1m #     \u001b[0m\u001b[1m D_Ext   \u001b[0m\u001b[1m Dint_   \u001b[0m\u001b[1m Long    \u001b[0m\u001b[1m Cima    \u001b[0m\u001b[1m Base    \u001b[0m\u001b[1m Lib     \u001b[0m\u001b[1m Rt     \u001b[0m\n",
       "     │\u001b[90m Int64 \u001b[0m\u001b[90m Float64 \u001b[0m\u001b[90m String7 \u001b[0m\u001b[90m Float64 \u001b[0m\u001b[90m Float64 \u001b[0m\u001b[90m Float64 \u001b[0m\u001b[90m Float64 \u001b[0m\u001b[90m Int64  \u001b[0m\n",
       "─────┼─────────────────────────────────────────────────────────────────────\n",
       "   1 │     1    11.0   3.9         0.2      0.0      0.2     15.1   342000\n",
       "   2 │     2     4.5   3.958       1.8      0.2      2.0     12.6   342000\n",
       "   3 │     3     4.5   3.958     133.45     2.0    135.45    12.6   342000\n",
       "   4 │     4     4.5   3.958       2.19   135.45   137.64    12.6   342000\n",
       "   5 │     5     4.5   3.812       1.39   137.64   139.03    12.6   342000\n",
       "   6 │     6     4.5   3.958      86.5    139.03   225.53    12.6   342000\n",
       "   7 │     7     4.5   2.992       0.39   225.53   225.92     9.2   246000\n",
       "   8 │     8     3.5   2.992    3340.33   225.92  3566.25     9.2   246000\n",
       "  ⋮  │   ⋮       ⋮        ⋮        ⋮        ⋮        ⋮        ⋮       ⋮\n",
       "  17 │    17     5.13  -           2.1   3597.34  3599.44    73.54  246000\n",
       "  18 │    18     5.62  -          10.32  3599.44  3609.76     9.2   246000\n",
       "  19 │    19     4.5   -           1.25  3609.76  3611.01     9.2   246000\n",
       "  20 │    20     6.5   -           2.05  3611.01  3613.06     9.2   246000\n",
       "  21 │    21     3.5   2.992       0.38  3613.06  3613.44     9.3   246000\n",
       "  22 │    22     3.5   2.992     101.56  3613.44  3715.0      9.2   246000\n",
       "  23 │    23     4.42  -           2.08  3715.0   3717.08     9.2   246000\n",
       "\u001b[36m                                                             8 rows omitted\u001b[0m"
      ]
     },
     "metadata": {},
     "output_type": "display_data"
    }
   ],
   "source": [
    "df"
   ]
  },
  {
   "cell_type": "code",
   "execution_count": 8,
   "metadata": {},
   "outputs": [
    {
     "data": {
      "text/html": [
       "<div><div style = \"float: left;\"><span>DataFrameRow (8 columns)</span></div><div style = \"clear: both;\"></div></div><div class = \"data-frame\" style = \"overflow-x: scroll;\"><table class = \"data-frame\" style = \"margin-bottom: 6px;\"><thead><tr class = \"header\"><th class = \"rowLabel\" style = \"font-weight: bold; text-align: right;\">Row</th><th style = \"text-align: left;\">#</th><th style = \"text-align: left;\">D_Ext</th><th style = \"text-align: left;\">Dint_</th><th style = \"text-align: left;\">Long</th><th style = \"text-align: left;\">Cima</th><th style = \"text-align: left;\">Base</th><th style = \"text-align: left;\">Lib</th><th style = \"text-align: left;\">Rt</th></tr><tr class = \"subheader headerLastRow\"><th class = \"rowLabel\" style = \"font-weight: bold; text-align: right;\"></th><th title = \"Int64\" style = \"text-align: left;\">Int64</th><th title = \"Float64\" style = \"text-align: left;\">Float64</th><th title = \"String7\" style = \"text-align: left;\">String7</th><th title = \"Float64\" style = \"text-align: left;\">Float64</th><th title = \"Float64\" style = \"text-align: left;\">Float64</th><th title = \"Float64\" style = \"text-align: left;\">Float64</th><th title = \"Float64\" style = \"text-align: left;\">Float64</th><th title = \"Int64\" style = \"text-align: left;\">Int64</th></tr></thead><tbody><tr><td class = \"rowLabel\" style = \"font-weight: bold; text-align: right;\">23</td><td style = \"text-align: right;\">23</td><td style = \"text-align: right;\">4.42</td><td style = \"text-align: left;\">-</td><td style = \"text-align: right;\">2.08</td><td style = \"text-align: right;\">3715.0</td><td style = \"text-align: right;\">3717.08</td><td style = \"text-align: right;\">9.2</td><td style = \"text-align: right;\">246000</td></tr></tbody></table></div>"
      ],
      "text/latex": [
       "\\begin{tabular}{r|cccccccc}\n",
       "\t& \\# & D\\_Ext & Dint\\_ & Long & Cima & Base & Lib & Rt\\\\\n",
       "\t\\hline\n",
       "\t& Int64 & Float64 & String7 & Float64 & Float64 & Float64 & Float64 & Int64\\\\\n",
       "\t\\hline\n",
       "\t23 & 23 & 4.42 & - & 2.08 & 3715.0 & 3717.08 & 9.2 & 246000 \\\\\n",
       "\\end{tabular}\n"
      ],
      "text/plain": [
       "\u001b[1mDataFrameRow\u001b[0m\n",
       "\u001b[1m Row \u001b[0m│\u001b[1m #     \u001b[0m\u001b[1m D_Ext   \u001b[0m\u001b[1m Dint_   \u001b[0m\u001b[1m Long    \u001b[0m\u001b[1m Cima    \u001b[0m\u001b[1m Base    \u001b[0m\u001b[1m Lib     \u001b[0m\u001b[1m Rt     \u001b[0m\n",
       "     │\u001b[90m Int64 \u001b[0m\u001b[90m Float64 \u001b[0m\u001b[90m String7 \u001b[0m\u001b[90m Float64 \u001b[0m\u001b[90m Float64 \u001b[0m\u001b[90m Float64 \u001b[0m\u001b[90m Float64 \u001b[0m\u001b[90m Int64  \u001b[0m\n",
       "─────┼─────────────────────────────────────────────────────────────────────\n",
       "  23 │    23     4.42  -           2.08   3715.0  3717.08      9.2  246000"
      ]
     },
     "metadata": {},
     "output_type": "display_data"
    }
   ],
   "source": [
    "# Mostrando los primeros 5 renglones de la tabla\n",
    "last(df)"
   ]
  },
  {
   "cell_type": "code",
   "execution_count": 9,
   "metadata": {},
   "outputs": [],
   "source": [
    "# Datos\n",
    "d_fc = 0.86         # Densidad del fluido de control- diesel \n",
    "FF = 1-(d_fc/7.85)  # Factor de flotación\n",
    "FS_p = 80           # Factor de seguridad - (porcentaje)\n",
    "FS = 1/(FS_p/100);   # Factor de seguridad - adim"
   ]
  },
  {
   "cell_type": "markdown",
   "metadata": {},
   "source": [
    "$ F_{f} = 1 - \\frac{\\rho_{fc}}{7.85} $ \n",
    "\n",
    "$ R_{t80} = \\frac{R_{t}}{FS} $\n",
    "\n",
    "$ W_{aire} = \\frac{Long \\cdot Lib}{0.3048} $\n",
    "\n",
    "$ W_{flot} = W_{aire} \\cdot FF $\n",
    "\n",
    "$ MOP_{aire} = R_{t80} - W_{aire\\_acum} $\n",
    "\n",
    "$ MOP_{flot} = R_{t80} - W_{flot\\_acum} $\n",
    "\n",
    "$ MOP_{aire\\_ton} = \\frac {0.4536 \\cdot MOP_{aire}}{1000} $\n",
    "\n",
    "$ MOP_{flot\\_ton} = \\frac {0.4536 \\cdot MOP_{flot}}{1000} $"
   ]
  },
  {
   "cell_type": "code",
   "execution_count": 10,
   "metadata": {},
   "outputs": [
    {
     "name": "stdout",
     "output_type": "stream",
     "text": [
      "El margen de jalón en el aire al 80% es: 89.24000201574803 ton\n",
      "El margen de jalón flotado al 80% es: 89.24312189682533 ton\n"
     ]
    }
   ],
   "source": [
    "# Datos de entrada\n",
    "Rt = 246_000      # (lbs)\n",
    "long = 2.08       # (m)\n",
    "Lib = 9.2         # (lb/pie)\n",
    "W_ant_aire = 0    # (lbs)\n",
    "W_ant_flot = 0    # (lbs)\n",
    "\n",
    "# Resistencia a la tensión al 80% (lbs)\n",
    "Rt_80 = 0.8*Rt\n",
    "\n",
    "# Pesos en el aire y flotado (lbs)\n",
    "W_aire = long*Lib/0.3048\n",
    "W_flot = W_aire*FF\n",
    "\n",
    "# Pesos acumulados en el aire y flotado (lbs)\n",
    "W_aire_acum = W_ant_aire + W_aire\n",
    "W_flot_acum = W_ant_flot + W_flot\n",
    "\n",
    "# Margen de jalón (ton)\n",
    "MOP_aire = (Rt_80 - W_aire_acum)*0.4536*1e-3\n",
    "MOP_flot = (Rt_80 - W_flot_acum)*0.4536*1e-3\n",
    "\n",
    "println(\"El margen de jalón en el aire al 80% es: $MOP_aire ton\")\n",
    "println(\"El margen de jalón flotado al 80% es: $MOP_flot ton\")"
   ]
  },
  {
   "cell_type": "code",
   "execution_count": 11,
   "metadata": {},
   "outputs": [
    {
     "data": {
      "text/html": [
       "<div><div style = \"float: left;\"><span>23×17 DataFrame</span></div><div style = \"clear: both;\"></div></div><div class = \"data-frame\" style = \"overflow-x: scroll;\"><table class = \"data-frame\" style = \"margin-bottom: 6px;\"><thead><tr class = \"header\"><th class = \"rowNumber\" style = \"font-weight: bold; text-align: right;\">Row</th><th style = \"text-align: left;\">#</th><th style = \"text-align: left;\">D_Ext</th><th style = \"text-align: left;\">Dint_</th><th style = \"text-align: left;\">Long</th><th style = \"text-align: left;\">Cima</th><th style = \"text-align: left;\">Base</th><th style = \"text-align: left;\">Lib</th><th style = \"text-align: left;\">Rt</th><th style = \"text-align: left;\">Rt_80</th><th style = \"text-align: left;\">W_aire</th><th style = \"text-align: left;\">W_flot</th><th style = \"text-align: left;\">W_aire_acum</th><th style = \"text-align: left;\">W_flot_acum</th><th style = \"text-align: left;\">MOP_aire</th><th style = \"text-align: left;\">MOP_flot</th><th style = \"text-align: left;\">MOP_aire_ton</th><th style = \"text-align: left;\">MOP_flot_ton</th></tr><tr class = \"subheader headerLastRow\"><th class = \"rowNumber\" style = \"font-weight: bold; text-align: right;\"></th><th title = \"Int64\" style = \"text-align: left;\">Int64</th><th title = \"Float64\" style = \"text-align: left;\">Float64</th><th title = \"String7\" style = \"text-align: left;\">String7</th><th title = \"Float64\" style = \"text-align: left;\">Float64</th><th title = \"Float64\" style = \"text-align: left;\">Float64</th><th title = \"Float64\" style = \"text-align: left;\">Float64</th><th title = \"Float64\" style = \"text-align: left;\">Float64</th><th title = \"Int64\" style = \"text-align: left;\">Int64</th><th title = \"Float64\" style = \"text-align: left;\">Float64</th><th title = \"Float64\" style = \"text-align: left;\">Float64</th><th title = \"Float64\" style = \"text-align: left;\">Float64</th><th title = \"Float64\" style = \"text-align: left;\">Float64</th><th title = \"Float64\" style = \"text-align: left;\">Float64</th><th title = \"Float64\" style = \"text-align: left;\">Float64</th><th title = \"Float64\" style = \"text-align: left;\">Float64</th><th title = \"Float64\" style = \"text-align: left;\">Float64</th><th title = \"Float64\" style = \"text-align: left;\">Float64</th></tr></thead><tbody><tr><td class = \"rowNumber\" style = \"font-weight: bold; text-align: right;\">1</td><td style = \"text-align: right;\">1</td><td style = \"text-align: right;\">11.0</td><td style = \"text-align: left;\">3.9</td><td style = \"text-align: right;\">0.2</td><td style = \"text-align: right;\">0.0</td><td style = \"text-align: right;\">0.2</td><td style = \"text-align: right;\">15.1</td><td style = \"text-align: right;\">342000</td><td style = \"text-align: right;\">273600.0</td><td style = \"text-align: right;\">9.90814</td><td style = \"text-align: right;\">8.82266</td><td style = \"text-align: right;\">1.19735e5</td><td style = \"text-align: right;\">1.06617e5</td><td style = \"text-align: right;\">1.53865e5</td><td style = \"text-align: right;\">1.66983e5</td><td style = \"text-align: right;\">69.7933</td><td style = \"text-align: right;\">75.7434</td></tr><tr><td class = \"rowNumber\" style = \"font-weight: bold; text-align: right;\">2</td><td style = \"text-align: right;\">2</td><td style = \"text-align: right;\">4.5</td><td style = \"text-align: left;\">3.958</td><td style = \"text-align: right;\">1.8</td><td style = \"text-align: right;\">0.2</td><td style = \"text-align: right;\">2.0</td><td style = \"text-align: right;\">12.6</td><td style = \"text-align: right;\">342000</td><td style = \"text-align: right;\">273600.0</td><td style = \"text-align: right;\">74.4094</td><td style = \"text-align: right;\">66.2576</td><td style = \"text-align: right;\">1.19725e5</td><td style = \"text-align: right;\">1.06608e5</td><td style = \"text-align: right;\">1.53875e5</td><td style = \"text-align: right;\">1.66992e5</td><td style = \"text-align: right;\">69.7978</td><td style = \"text-align: right;\">75.7474</td></tr><tr><td class = \"rowNumber\" style = \"font-weight: bold; text-align: right;\">3</td><td style = \"text-align: right;\">3</td><td style = \"text-align: right;\">4.5</td><td style = \"text-align: left;\">3.958</td><td style = \"text-align: right;\">133.45</td><td style = \"text-align: right;\">2.0</td><td style = \"text-align: right;\">135.45</td><td style = \"text-align: right;\">12.6</td><td style = \"text-align: right;\">342000</td><td style = \"text-align: right;\">273600.0</td><td style = \"text-align: right;\">5516.63</td><td style = \"text-align: right;\">4912.26</td><td style = \"text-align: right;\">1.1965e5</td><td style = \"text-align: right;\">1.06542e5</td><td style = \"text-align: right;\">1.5395e5</td><td style = \"text-align: right;\">1.67058e5</td><td style = \"text-align: right;\">69.8316</td><td style = \"text-align: right;\">75.7774</td></tr><tr><td class = \"rowNumber\" style = \"font-weight: bold; text-align: right;\">4</td><td style = \"text-align: right;\">4</td><td style = \"text-align: right;\">4.5</td><td style = \"text-align: left;\">3.958</td><td style = \"text-align: right;\">2.19</td><td style = \"text-align: right;\">135.45</td><td style = \"text-align: right;\">137.64</td><td style = \"text-align: right;\">12.6</td><td style = \"text-align: right;\">342000</td><td style = \"text-align: right;\">273600.0</td><td style = \"text-align: right;\">90.5315</td><td style = \"text-align: right;\">80.6134</td><td style = \"text-align: right;\">1.14134e5</td><td style = \"text-align: right;\">1.0163e5</td><td style = \"text-align: right;\">1.59466e5</td><td style = \"text-align: right;\">1.7197e5</td><td style = \"text-align: right;\">72.3339</td><td style = \"text-align: right;\">78.0056</td></tr><tr><td class = \"rowNumber\" style = \"font-weight: bold; text-align: right;\">5</td><td style = \"text-align: right;\">5</td><td style = \"text-align: right;\">4.5</td><td style = \"text-align: left;\">3.812</td><td style = \"text-align: right;\">1.39</td><td style = \"text-align: right;\">137.64</td><td style = \"text-align: right;\">139.03</td><td style = \"text-align: right;\">12.6</td><td style = \"text-align: right;\">342000</td><td style = \"text-align: right;\">273600.0</td><td style = \"text-align: right;\">57.4606</td><td style = \"text-align: right;\">51.1656</td><td style = \"text-align: right;\">1.14043e5</td><td style = \"text-align: right;\">1.01549e5</td><td style = \"text-align: right;\">1.59557e5</td><td style = \"text-align: right;\">1.72051e5</td><td style = \"text-align: right;\">72.375</td><td style = \"text-align: right;\">78.0422</td></tr><tr><td class = \"rowNumber\" style = \"font-weight: bold; text-align: right;\">6</td><td style = \"text-align: right;\">6</td><td style = \"text-align: right;\">4.5</td><td style = \"text-align: left;\">3.958</td><td style = \"text-align: right;\">86.5</td><td style = \"text-align: right;\">139.03</td><td style = \"text-align: right;\">225.53</td><td style = \"text-align: right;\">12.6</td><td style = \"text-align: right;\">342000</td><td style = \"text-align: right;\">273600.0</td><td style = \"text-align: right;\">3575.79</td><td style = \"text-align: right;\">3184.05</td><td style = \"text-align: right;\">1.13986e5</td><td style = \"text-align: right;\">1.01498e5</td><td style = \"text-align: right;\">1.59614e5</td><td style = \"text-align: right;\">1.72102e5</td><td style = \"text-align: right;\">72.401</td><td style = \"text-align: right;\">78.0654</td></tr><tr><td class = \"rowNumber\" style = \"font-weight: bold; text-align: right;\">7</td><td style = \"text-align: right;\">7</td><td style = \"text-align: right;\">4.5</td><td style = \"text-align: left;\">2.992</td><td style = \"text-align: right;\">0.39</td><td style = \"text-align: right;\">225.53</td><td style = \"text-align: right;\">225.92</td><td style = \"text-align: right;\">9.2</td><td style = \"text-align: right;\">246000</td><td style = \"text-align: right;\">196800.0</td><td style = \"text-align: right;\">11.7717</td><td style = \"text-align: right;\">10.482</td><td style = \"text-align: right;\">1.1041e5</td><td style = \"text-align: right;\">98314.1</td><td style = \"text-align: right;\">86390.1</td><td style = \"text-align: right;\">98485.9</td><td style = \"text-align: right;\">39.1865</td><td style = \"text-align: right;\">44.6732</td></tr><tr><td class = \"rowNumber\" style = \"font-weight: bold; text-align: right;\">8</td><td style = \"text-align: right;\">8</td><td style = \"text-align: right;\">3.5</td><td style = \"text-align: left;\">2.992</td><td style = \"text-align: right;\">3340.33</td><td style = \"text-align: right;\">225.92</td><td style = \"text-align: right;\">3566.25</td><td style = \"text-align: right;\">9.2</td><td style = \"text-align: right;\">246000</td><td style = \"text-align: right;\">196800.0</td><td style = \"text-align: right;\">1.00824e5</td><td style = \"text-align: right;\">89778.0</td><td style = \"text-align: right;\">1.10398e5</td><td style = \"text-align: right;\">98303.6</td><td style = \"text-align: right;\">86401.8</td><td style = \"text-align: right;\">98496.4</td><td style = \"text-align: right;\">39.1919</td><td style = \"text-align: right;\">44.678</td></tr><tr><td class = \"rowNumber\" style = \"font-weight: bold; text-align: right;\">9</td><td style = \"text-align: right;\">9</td><td style = \"text-align: right;\">3.5</td><td style = \"text-align: left;\">2.992</td><td style = \"text-align: right;\">9.4</td><td style = \"text-align: right;\">3566.25</td><td style = \"text-align: right;\">3575.65</td><td style = \"text-align: right;\">9.2</td><td style = \"text-align: right;\">246000</td><td style = \"text-align: right;\">196800.0</td><td style = \"text-align: right;\">283.727</td><td style = \"text-align: right;\">252.644</td><td style = \"text-align: right;\">9574.55</td><td style = \"text-align: right;\">8525.62</td><td style = \"text-align: right;\">1.87225e5</td><td style = \"text-align: right;\">1.88274e5</td><td style = \"text-align: right;\">84.9255</td><td style = \"text-align: right;\">85.4013</td></tr><tr><td class = \"rowNumber\" style = \"font-weight: bold; text-align: right;\">10</td><td style = \"text-align: right;\">10</td><td style = \"text-align: right;\">5.25</td><td style = \"text-align: left;\">-</td><td style = \"text-align: right;\">0.42</td><td style = \"text-align: right;\">3575.65</td><td style = \"text-align: right;\">3576.07</td><td style = \"text-align: right;\">73.54</td><td style = \"text-align: right;\">246000</td><td style = \"text-align: right;\">196800.0</td><td style = \"text-align: right;\">101.335</td><td style = \"text-align: right;\">90.233</td><td style = \"text-align: right;\">9290.82</td><td style = \"text-align: right;\">8272.97</td><td style = \"text-align: right;\">1.87509e5</td><td style = \"text-align: right;\">188527.0</td><td style = \"text-align: right;\">85.0542</td><td style = \"text-align: right;\">85.5159</td></tr><tr><td class = \"rowNumber\" style = \"font-weight: bold; text-align: right;\">11</td><td style = \"text-align: right;\">11</td><td style = \"text-align: right;\">5.38</td><td style = \"text-align: left;\">-</td><td style = \"text-align: right;\">0.19</td><td style = \"text-align: right;\">3576.07</td><td style = \"text-align: right;\">3576.26</td><td style = \"text-align: right;\">73.54</td><td style = \"text-align: right;\">246000</td><td style = \"text-align: right;\">196800.0</td><td style = \"text-align: right;\">45.8419</td><td style = \"text-align: right;\">40.8197</td><td style = \"text-align: right;\">9189.49</td><td style = \"text-align: right;\">8182.74</td><td style = \"text-align: right;\">1.87611e5</td><td style = \"text-align: right;\">1.88617e5</td><td style = \"text-align: right;\">85.1001</td><td style = \"text-align: right;\">85.5568</td></tr><tr><td class = \"rowNumber\" style = \"font-weight: bold; text-align: right;\">12</td><td style = \"text-align: right;\">12</td><td style = \"text-align: right;\">5.38</td><td style = \"text-align: left;\">-</td><td style = \"text-align: right;\">5.77</td><td style = \"text-align: right;\">3576.26</td><td style = \"text-align: right;\">3582.03</td><td style = \"text-align: right;\">73.54</td><td style = \"text-align: right;\">246000</td><td style = \"text-align: right;\">196800.0</td><td style = \"text-align: right;\">1392.15</td><td style = \"text-align: right;\">1239.63</td><td style = \"text-align: right;\">9143.65</td><td style = \"text-align: right;\">8141.92</td><td style = \"text-align: right;\">1.87656e5</td><td style = \"text-align: right;\">1.88658e5</td><td style = \"text-align: right;\">85.1209</td><td style = \"text-align: right;\">85.5753</td></tr><tr><td class = \"rowNumber\" style = \"font-weight: bold; text-align: right;\">13</td><td style = \"text-align: right;\">13</td><td style = \"text-align: right;\">5.38</td><td style = \"text-align: left;\">-</td><td style = \"text-align: right;\">5.77</td><td style = \"text-align: right;\">3582.03</td><td style = \"text-align: right;\">3587.8</td><td style = \"text-align: right;\">73.54</td><td style = \"text-align: right;\">246000</td><td style = \"text-align: right;\">196800.0</td><td style = \"text-align: right;\">1392.15</td><td style = \"text-align: right;\">1239.63</td><td style = \"text-align: right;\">7751.5</td><td style = \"text-align: right;\">6902.29</td><td style = \"text-align: right;\">1.89048e5</td><td style = \"text-align: right;\">1.89898e5</td><td style = \"text-align: right;\">85.7524</td><td style = \"text-align: right;\">86.1376</td></tr><tr><td class = \"rowNumber\" style = \"font-weight: bold; text-align: right;\">14</td><td style = \"text-align: right;\">14</td><td style = \"text-align: right;\">5.38</td><td style = \"text-align: left;\">-</td><td style = \"text-align: right;\">5.77</td><td style = \"text-align: right;\">3587.8</td><td style = \"text-align: right;\">3593.57</td><td style = \"text-align: right;\">73.54</td><td style = \"text-align: right;\">246000</td><td style = \"text-align: right;\">196800.0</td><td style = \"text-align: right;\">1392.15</td><td style = \"text-align: right;\">1239.63</td><td style = \"text-align: right;\">6359.36</td><td style = \"text-align: right;\">5662.66</td><td style = \"text-align: right;\">1.90441e5</td><td style = \"text-align: right;\">1.91137e5</td><td style = \"text-align: right;\">86.3839</td><td style = \"text-align: right;\">86.6999</td></tr><tr><td class = \"rowNumber\" style = \"font-weight: bold; text-align: right;\">15</td><td style = \"text-align: right;\">15</td><td style = \"text-align: right;\">5.38</td><td style = \"text-align: left;\">-</td><td style = \"text-align: right;\">1.67</td><td style = \"text-align: right;\">3593.57</td><td style = \"text-align: right;\">3595.24</td><td style = \"text-align: right;\">73.54</td><td style = \"text-align: right;\">246000</td><td style = \"text-align: right;\">196800.0</td><td style = \"text-align: right;\">402.926</td><td style = \"text-align: right;\">358.784</td><td style = \"text-align: right;\">4967.21</td><td style = \"text-align: right;\">4423.03</td><td style = \"text-align: right;\">1.91833e5</td><td style = \"text-align: right;\">192377.0</td><td style = \"text-align: right;\">87.0154</td><td style = \"text-align: right;\">87.2622</td></tr><tr><td class = \"rowNumber\" style = \"font-weight: bold; text-align: right;\">16</td><td style = \"text-align: right;\">16</td><td style = \"text-align: right;\">5.13</td><td style = \"text-align: left;\">-</td><td style = \"text-align: right;\">2.1</td><td style = \"text-align: right;\">3595.24</td><td style = \"text-align: right;\">3597.34</td><td style = \"text-align: right;\">73.54</td><td style = \"text-align: right;\">246000</td><td style = \"text-align: right;\">196800.0</td><td style = \"text-align: right;\">506.673</td><td style = \"text-align: right;\">451.165</td><td style = \"text-align: right;\">4564.28</td><td style = \"text-align: right;\">4064.25</td><td style = \"text-align: right;\">1.92236e5</td><td style = \"text-align: right;\">1.92736e5</td><td style = \"text-align: right;\">87.1981</td><td style = \"text-align: right;\">87.4249</td></tr><tr><td class = \"rowNumber\" style = \"font-weight: bold; text-align: right;\">17</td><td style = \"text-align: right;\">17</td><td style = \"text-align: right;\">5.13</td><td style = \"text-align: left;\">-</td><td style = \"text-align: right;\">2.1</td><td style = \"text-align: right;\">3597.34</td><td style = \"text-align: right;\">3599.44</td><td style = \"text-align: right;\">73.54</td><td style = \"text-align: right;\">246000</td><td style = \"text-align: right;\">196800.0</td><td style = \"text-align: right;\">506.673</td><td style = \"text-align: right;\">451.165</td><td style = \"text-align: right;\">4057.61</td><td style = \"text-align: right;\">3613.08</td><td style = \"text-align: right;\">1.92742e5</td><td style = \"text-align: right;\">1.93187e5</td><td style = \"text-align: right;\">87.4279</td><td style = \"text-align: right;\">87.6296</td></tr><tr><td class = \"rowNumber\" style = \"font-weight: bold; text-align: right;\">18</td><td style = \"text-align: right;\">18</td><td style = \"text-align: right;\">5.62</td><td style = \"text-align: left;\">-</td><td style = \"text-align: right;\">10.32</td><td style = \"text-align: right;\">3599.44</td><td style = \"text-align: right;\">3609.76</td><td style = \"text-align: right;\">9.2</td><td style = \"text-align: right;\">246000</td><td style = \"text-align: right;\">196800.0</td><td style = \"text-align: right;\">311.496</td><td style = \"text-align: right;\">277.37</td><td style = \"text-align: right;\">3550.94</td><td style = \"text-align: right;\">3161.92</td><td style = \"text-align: right;\">1.93249e5</td><td style = \"text-align: right;\">1.93638e5</td><td style = \"text-align: right;\">87.6578</td><td style = \"text-align: right;\">87.8342</td></tr><tr><td class = \"rowNumber\" style = \"font-weight: bold; text-align: right;\">19</td><td style = \"text-align: right;\">19</td><td style = \"text-align: right;\">4.5</td><td style = \"text-align: left;\">-</td><td style = \"text-align: right;\">1.25</td><td style = \"text-align: right;\">3609.76</td><td style = \"text-align: right;\">3611.01</td><td style = \"text-align: right;\">9.2</td><td style = \"text-align: right;\">246000</td><td style = \"text-align: right;\">196800.0</td><td style = \"text-align: right;\">37.7297</td><td style = \"text-align: right;\">33.5962</td><td style = \"text-align: right;\">3239.44</td><td style = \"text-align: right;\">2884.55</td><td style = \"text-align: right;\">1.93561e5</td><td style = \"text-align: right;\">1.93915e5</td><td style = \"text-align: right;\">87.7991</td><td style = \"text-align: right;\">87.96</td></tr><tr><td class = \"rowNumber\" style = \"font-weight: bold; text-align: right;\">20</td><td style = \"text-align: right;\">20</td><td style = \"text-align: right;\">6.5</td><td style = \"text-align: left;\">-</td><td style = \"text-align: right;\">2.05</td><td style = \"text-align: right;\">3611.01</td><td style = \"text-align: right;\">3613.06</td><td style = \"text-align: right;\">9.2</td><td style = \"text-align: right;\">246000</td><td style = \"text-align: right;\">196800.0</td><td style = \"text-align: right;\">61.8766</td><td style = \"text-align: right;\">55.0978</td><td style = \"text-align: right;\">3201.71</td><td style = \"text-align: right;\">2850.95</td><td style = \"text-align: right;\">1.93598e5</td><td style = \"text-align: right;\">193949.0</td><td style = \"text-align: right;\">87.8162</td><td style = \"text-align: right;\">87.9753</td></tr><tr><td class = \"rowNumber\" style = \"font-weight: bold; text-align: right;\">21</td><td style = \"text-align: right;\">21</td><td style = \"text-align: right;\">3.5</td><td style = \"text-align: left;\">2.992</td><td style = \"text-align: right;\">0.38</td><td style = \"text-align: right;\">3613.06</td><td style = \"text-align: right;\">3613.44</td><td style = \"text-align: right;\">9.3</td><td style = \"text-align: right;\">246000</td><td style = \"text-align: right;\">196800.0</td><td style = \"text-align: right;\">11.5945</td><td style = \"text-align: right;\">10.3243</td><td style = \"text-align: right;\">3139.84</td><td style = \"text-align: right;\">2795.85</td><td style = \"text-align: right;\">1.9366e5</td><td style = \"text-align: right;\">1.94004e5</td><td style = \"text-align: right;\">87.8443</td><td style = \"text-align: right;\">88.0003</td></tr><tr><td class = \"rowNumber\" style = \"font-weight: bold; text-align: right;\">22</td><td style = \"text-align: right;\">22</td><td style = \"text-align: right;\">3.5</td><td style = \"text-align: left;\">2.992</td><td style = \"text-align: right;\">101.56</td><td style = \"text-align: right;\">3613.44</td><td style = \"text-align: right;\">3715.0</td><td style = \"text-align: right;\">9.2</td><td style = \"text-align: right;\">246000</td><td style = \"text-align: right;\">196800.0</td><td style = \"text-align: right;\">3065.46</td><td style = \"text-align: right;\">2729.63</td><td style = \"text-align: right;\">3128.24</td><td style = \"text-align: right;\">2785.53</td><td style = \"text-align: right;\">1.93672e5</td><td style = \"text-align: right;\">1.94014e5</td><td style = \"text-align: right;\">87.8495</td><td style = \"text-align: right;\">88.005</td></tr><tr><td class = \"rowNumber\" style = \"font-weight: bold; text-align: right;\">23</td><td style = \"text-align: right;\">23</td><td style = \"text-align: right;\">4.42</td><td style = \"text-align: left;\">-</td><td style = \"text-align: right;\">2.08</td><td style = \"text-align: right;\">3715.0</td><td style = \"text-align: right;\">3717.08</td><td style = \"text-align: right;\">9.2</td><td style = \"text-align: right;\">246000</td><td style = \"text-align: right;\">196800.0</td><td style = \"text-align: right;\">62.7822</td><td style = \"text-align: right;\">55.9041</td><td style = \"text-align: right;\">62.7822</td><td style = \"text-align: right;\">55.9041</td><td style = \"text-align: right;\">1.96737e5</td><td style = \"text-align: right;\">1.96744e5</td><td style = \"text-align: right;\">89.24</td><td style = \"text-align: right;\">89.2431</td></tr></tbody></table></div>"
      ],
      "text/latex": [
       "\\begin{tabular}{r|ccccccccccc}\n",
       "\t& \\# & D\\_Ext & Dint\\_ & Long & Cima & Base & Lib & Rt & Rt\\_80 & W\\_aire & \\\\\n",
       "\t\\hline\n",
       "\t& Int64 & Float64 & String7 & Float64 & Float64 & Float64 & Float64 & Int64 & Float64 & Float64 & \\\\\n",
       "\t\\hline\n",
       "\t1 & 1 & 11.0 & 3.9 & 0.2 & 0.0 & 0.2 & 15.1 & 342000 & 273600.0 & 9.90814 & $\\dots$ \\\\\n",
       "\t2 & 2 & 4.5 & 3.958 & 1.8 & 0.2 & 2.0 & 12.6 & 342000 & 273600.0 & 74.4094 & $\\dots$ \\\\\n",
       "\t3 & 3 & 4.5 & 3.958 & 133.45 & 2.0 & 135.45 & 12.6 & 342000 & 273600.0 & 5516.63 & $\\dots$ \\\\\n",
       "\t4 & 4 & 4.5 & 3.958 & 2.19 & 135.45 & 137.64 & 12.6 & 342000 & 273600.0 & 90.5315 & $\\dots$ \\\\\n",
       "\t5 & 5 & 4.5 & 3.812 & 1.39 & 137.64 & 139.03 & 12.6 & 342000 & 273600.0 & 57.4606 & $\\dots$ \\\\\n",
       "\t6 & 6 & 4.5 & 3.958 & 86.5 & 139.03 & 225.53 & 12.6 & 342000 & 273600.0 & 3575.79 & $\\dots$ \\\\\n",
       "\t7 & 7 & 4.5 & 2.992 & 0.39 & 225.53 & 225.92 & 9.2 & 246000 & 196800.0 & 11.7717 & $\\dots$ \\\\\n",
       "\t8 & 8 & 3.5 & 2.992 & 3340.33 & 225.92 & 3566.25 & 9.2 & 246000 & 196800.0 & 1.00824e5 & $\\dots$ \\\\\n",
       "\t9 & 9 & 3.5 & 2.992 & 9.4 & 3566.25 & 3575.65 & 9.2 & 246000 & 196800.0 & 283.727 & $\\dots$ \\\\\n",
       "\t10 & 10 & 5.25 & - & 0.42 & 3575.65 & 3576.07 & 73.54 & 246000 & 196800.0 & 101.335 & $\\dots$ \\\\\n",
       "\t11 & 11 & 5.38 & - & 0.19 & 3576.07 & 3576.26 & 73.54 & 246000 & 196800.0 & 45.8419 & $\\dots$ \\\\\n",
       "\t12 & 12 & 5.38 & - & 5.77 & 3576.26 & 3582.03 & 73.54 & 246000 & 196800.0 & 1392.15 & $\\dots$ \\\\\n",
       "\t13 & 13 & 5.38 & - & 5.77 & 3582.03 & 3587.8 & 73.54 & 246000 & 196800.0 & 1392.15 & $\\dots$ \\\\\n",
       "\t14 & 14 & 5.38 & - & 5.77 & 3587.8 & 3593.57 & 73.54 & 246000 & 196800.0 & 1392.15 & $\\dots$ \\\\\n",
       "\t15 & 15 & 5.38 & - & 1.67 & 3593.57 & 3595.24 & 73.54 & 246000 & 196800.0 & 402.926 & $\\dots$ \\\\\n",
       "\t16 & 16 & 5.13 & - & 2.1 & 3595.24 & 3597.34 & 73.54 & 246000 & 196800.0 & 506.673 & $\\dots$ \\\\\n",
       "\t17 & 17 & 5.13 & - & 2.1 & 3597.34 & 3599.44 & 73.54 & 246000 & 196800.0 & 506.673 & $\\dots$ \\\\\n",
       "\t18 & 18 & 5.62 & - & 10.32 & 3599.44 & 3609.76 & 9.2 & 246000 & 196800.0 & 311.496 & $\\dots$ \\\\\n",
       "\t19 & 19 & 4.5 & - & 1.25 & 3609.76 & 3611.01 & 9.2 & 246000 & 196800.0 & 37.7297 & $\\dots$ \\\\\n",
       "\t20 & 20 & 6.5 & - & 2.05 & 3611.01 & 3613.06 & 9.2 & 246000 & 196800.0 & 61.8766 & $\\dots$ \\\\\n",
       "\t21 & 21 & 3.5 & 2.992 & 0.38 & 3613.06 & 3613.44 & 9.3 & 246000 & 196800.0 & 11.5945 & $\\dots$ \\\\\n",
       "\t22 & 22 & 3.5 & 2.992 & 101.56 & 3613.44 & 3715.0 & 9.2 & 246000 & 196800.0 & 3065.46 & $\\dots$ \\\\\n",
       "\t23 & 23 & 4.42 & - & 2.08 & 3715.0 & 3717.08 & 9.2 & 246000 & 196800.0 & 62.7822 & $\\dots$ \\\\\n",
       "\\end{tabular}\n"
      ],
      "text/plain": [
       "\u001b[1m23×17 DataFrame\u001b[0m\n",
       "\u001b[1m Row \u001b[0m│\u001b[1m #     \u001b[0m\u001b[1m D_Ext   \u001b[0m\u001b[1m Dint_   \u001b[0m\u001b[1m Long    \u001b[0m\u001b[1m Cima    \u001b[0m\u001b[1m Base    \u001b[0m\u001b[1m Lib     \u001b[0m\u001b[1m Rt     \u001b[0m\u001b[1m Rt\u001b[0m ⋯\n",
       "     │\u001b[90m Int64 \u001b[0m\u001b[90m Float64 \u001b[0m\u001b[90m String7 \u001b[0m\u001b[90m Float64 \u001b[0m\u001b[90m Float64 \u001b[0m\u001b[90m Float64 \u001b[0m\u001b[90m Float64 \u001b[0m\u001b[90m Int64  \u001b[0m\u001b[90m Fl\u001b[0m ⋯\n",
       "─────┼──────────────────────────────────────────────────────────────────────────\n",
       "   1 │     1    11.0   3.9         0.2      0.0      0.2     15.1   342000  27 ⋯\n",
       "   2 │     2     4.5   3.958       1.8      0.2      2.0     12.6   342000  27\n",
       "   3 │     3     4.5   3.958     133.45     2.0    135.45    12.6   342000  27\n",
       "   4 │     4     4.5   3.958       2.19   135.45   137.64    12.6   342000  27\n",
       "   5 │     5     4.5   3.812       1.39   137.64   139.03    12.6   342000  27 ⋯\n",
       "   6 │     6     4.5   3.958      86.5    139.03   225.53    12.6   342000  27\n",
       "   7 │     7     4.5   2.992       0.39   225.53   225.92     9.2   246000  19\n",
       "   8 │     8     3.5   2.992    3340.33   225.92  3566.25     9.2   246000  19\n",
       "  ⋮  │   ⋮       ⋮        ⋮        ⋮        ⋮        ⋮        ⋮       ⋮        ⋱\n",
       "  17 │    17     5.13  -           2.1   3597.34  3599.44    73.54  246000  19 ⋯\n",
       "  18 │    18     5.62  -          10.32  3599.44  3609.76     9.2   246000  19\n",
       "  19 │    19     4.5   -           1.25  3609.76  3611.01     9.2   246000  19\n",
       "  20 │    20     6.5   -           2.05  3611.01  3613.06     9.2   246000  19\n",
       "  21 │    21     3.5   2.992       0.38  3613.06  3613.44     9.3   246000  19 ⋯\n",
       "  22 │    22     3.5   2.992     101.56  3613.44  3715.0      9.2   246000  19\n",
       "  23 │    23     4.42  -           2.08  3715.0   3717.08     9.2   246000  19\n",
       "\u001b[36m                                                    9 columns and 8 rows omitted\u001b[0m"
      ]
     },
     "metadata": {},
     "output_type": "display_data"
    }
   ],
   "source": [
    "# Realizando los cálculos:\n",
    "# Resistencia a la tensión con Factor de Seguridad - lbs\n",
    "df[!, :Rt_80] = df.Rt/FS\n",
    "\n",
    "# Pesos en el aire y flotado - lbs\n",
    "df[!, :W_aire] = (df.Long) .* (df.Lib)/0.3048\n",
    "df[!, :W_flot] = df.W_aire*FF\n",
    "\n",
    "# Pesos acumulados - lbs\n",
    "W_aire_acum, W_flot_acum = Any[], Any[]\n",
    "\n",
    "for fila in 1:23\n",
    "    push!(W_aire_acum, sum(df.W_aire[fila:end]))\n",
    "    push!(W_flot_acum, sum(df.W_flot[fila:end]))\n",
    "end\n",
    "\n",
    "df[!, :W_aire_acum] = Float64.(W_aire_acum)\n",
    "df[!, :W_flot_acum] = Float64.(W_flot_acum)\n",
    "\n",
    "# Margen de Jalón - lbs\n",
    "df[!, :MOP_aire] = df.Rt_80 - df.W_aire_acum\n",
    "df[!, :MOP_flot] = df.Rt_80 - df.W_flot_acum\n",
    "\n",
    "# Margen de Jalón - ton\n",
    "df[!, :MOP_aire_ton] = df.MOP_aire*0.4536*1e-3\n",
    "df[!, :MOP_flot_ton] = df.MOP_flot*0.4536*1e-3\n",
    "\n",
    "df"
   ]
  },
  {
   "cell_type": "code",
   "execution_count": 12,
   "metadata": {},
   "outputs": [
    {
     "data": {
      "text/html": [
       "<div><div style = \"float: left;\"><span>1×17 DataFrame</span></div><div style = \"clear: both;\"></div></div><div class = \"data-frame\" style = \"overflow-x: scroll;\"><table class = \"data-frame\" style = \"margin-bottom: 6px;\"><thead><tr class = \"header\"><th class = \"rowNumber\" style = \"font-weight: bold; text-align: right;\">Row</th><th style = \"text-align: left;\">#</th><th style = \"text-align: left;\">D_Ext</th><th style = \"text-align: left;\">Dint_</th><th style = \"text-align: left;\">Long</th><th style = \"text-align: left;\">Cima</th><th style = \"text-align: left;\">Base</th><th style = \"text-align: left;\">Lib</th><th style = \"text-align: left;\">Rt</th><th style = \"text-align: left;\">Rt_80</th><th style = \"text-align: left;\">W_aire</th><th style = \"text-align: left;\">W_flot</th><th style = \"text-align: left;\">W_aire_acum</th><th style = \"text-align: left;\">W_flot_acum</th><th style = \"text-align: left;\">MOP_aire</th><th style = \"text-align: left;\">MOP_flot</th><th style = \"text-align: left;\">MOP_aire_ton</th><th style = \"text-align: left;\">MOP_flot_ton</th></tr><tr class = \"subheader headerLastRow\"><th class = \"rowNumber\" style = \"font-weight: bold; text-align: right;\"></th><th title = \"Int64\" style = \"text-align: left;\">Int64</th><th title = \"Float64\" style = \"text-align: left;\">Float64</th><th title = \"String7\" style = \"text-align: left;\">String7</th><th title = \"Float64\" style = \"text-align: left;\">Float64</th><th title = \"Float64\" style = \"text-align: left;\">Float64</th><th title = \"Float64\" style = \"text-align: left;\">Float64</th><th title = \"Float64\" style = \"text-align: left;\">Float64</th><th title = \"Int64\" style = \"text-align: left;\">Int64</th><th title = \"Float64\" style = \"text-align: left;\">Float64</th><th title = \"Float64\" style = \"text-align: left;\">Float64</th><th title = \"Float64\" style = \"text-align: left;\">Float64</th><th title = \"Float64\" style = \"text-align: left;\">Float64</th><th title = \"Float64\" style = \"text-align: left;\">Float64</th><th title = \"Float64\" style = \"text-align: left;\">Float64</th><th title = \"Float64\" style = \"text-align: left;\">Float64</th><th title = \"Float64\" style = \"text-align: left;\">Float64</th><th title = \"Float64\" style = \"text-align: left;\">Float64</th></tr></thead><tbody><tr><td class = \"rowNumber\" style = \"font-weight: bold; text-align: right;\">1</td><td style = \"text-align: right;\">7</td><td style = \"text-align: right;\">4.5</td><td style = \"text-align: left;\">2.992</td><td style = \"text-align: right;\">0.39</td><td style = \"text-align: right;\">225.53</td><td style = \"text-align: right;\">225.92</td><td style = \"text-align: right;\">9.2</td><td style = \"text-align: right;\">246000</td><td style = \"text-align: right;\">196800.0</td><td style = \"text-align: right;\">11.7717</td><td style = \"text-align: right;\">10.482</td><td style = \"text-align: right;\">1.1041e5</td><td style = \"text-align: right;\">98314.1</td><td style = \"text-align: right;\">86390.1</td><td style = \"text-align: right;\">98485.9</td><td style = \"text-align: right;\">39.1865</td><td style = \"text-align: right;\">44.6732</td></tr></tbody></table></div>"
      ],
      "text/latex": [
       "\\begin{tabular}{r|ccccccccccc}\n",
       "\t& \\# & D\\_Ext & Dint\\_ & Long & Cima & Base & Lib & Rt & Rt\\_80 & W\\_aire & \\\\\n",
       "\t\\hline\n",
       "\t& Int64 & Float64 & String7 & Float64 & Float64 & Float64 & Float64 & Int64 & Float64 & Float64 & \\\\\n",
       "\t\\hline\n",
       "\t1 & 7 & 4.5 & 2.992 & 0.39 & 225.53 & 225.92 & 9.2 & 246000 & 196800.0 & 11.7717 & $\\dots$ \\\\\n",
       "\\end{tabular}\n"
      ],
      "text/plain": [
       "\u001b[1m1×17 DataFrame\u001b[0m\n",
       "\u001b[1m Row \u001b[0m│\u001b[1m #     \u001b[0m\u001b[1m D_Ext   \u001b[0m\u001b[1m Dint_   \u001b[0m\u001b[1m Long    \u001b[0m\u001b[1m Cima    \u001b[0m\u001b[1m Base    \u001b[0m\u001b[1m Lib     \u001b[0m\u001b[1m Rt     \u001b[0m\u001b[1m Rt\u001b[0m ⋯\n",
       "     │\u001b[90m Int64 \u001b[0m\u001b[90m Float64 \u001b[0m\u001b[90m String7 \u001b[0m\u001b[90m Float64 \u001b[0m\u001b[90m Float64 \u001b[0m\u001b[90m Float64 \u001b[0m\u001b[90m Float64 \u001b[0m\u001b[90m Int64  \u001b[0m\u001b[90m Fl\u001b[0m ⋯\n",
       "─────┼──────────────────────────────────────────────────────────────────────────\n",
       "   1 │     7      4.5  2.992       0.39   225.53   225.92      9.2  246000  19 ⋯\n",
       "\u001b[36m                                                               9 columns omitted\u001b[0m"
      ]
     },
     "metadata": {},
     "output_type": "display_data"
    }
   ],
   "source": [
    "first(sort(df, [:MOP_flot_ton]), 1)"
   ]
  }
 ],
 "metadata": {
  "kernelspec": {
   "display_name": "Julia 1.9.4",
   "language": "julia",
   "name": "julia-1.9"
  },
  "language_info": {
   "file_extension": ".jl",
   "mimetype": "application/julia",
   "name": "julia",
   "version": "1.9.4"
  }
 },
 "nbformat": 4,
 "nbformat_minor": 2
}
